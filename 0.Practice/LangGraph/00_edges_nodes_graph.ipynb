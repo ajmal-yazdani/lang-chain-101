{
 "cells": [
  {
   "cell_type": "code",
   "execution_count": 3,
   "metadata": {},
   "outputs": [
    {
     "data": {
      "text/plain": [
       "'2geV83WsZC2kxN9hPRAlVXBqSeiFW8f3sN1aYnQpztSNTPrj0o6IJQQJ99BBACYeBjFXJ3w3AAABACOGoM1S'"
      ]
     },
     "execution_count": 3,
     "metadata": {},
     "output_type": "execute_result"
    }
   ],
   "source": [
    "from langchain_openai import AzureChatOpenAI\n",
    "import os\n",
    "from dotenv import load_dotenv\n",
    "\n",
    "load_dotenv()\n",
    "azure_openai_api_key: str | None = os.getenv(\"AZURE_OPENAI_API_KEY\")\n",
    "if azure_openai_api_key:\n",
    "    os.environ[\"AZURE_OPENAI_API_KEY\"] = azure_openai_api_key\n",
    "\n",
    "azure_openai_api_key"
   ]
  },
  {
   "cell_type": "code",
   "execution_count": 25,
   "metadata": {},
   "outputs": [
    {
     "data": {
      "text/plain": [
       "AzureChatOpenAI(client=<openai.resources.chat.completions.Completions object at 0x7f5df7d48f20>, async_client=<openai.resources.chat.completions.AsyncCompletions object at 0x7f5df7c9e330>, root_client=<openai.lib.azure.AzureOpenAI object at 0x7f5df7fd5280>, root_async_client=<openai.lib.azure.AsyncAzureOpenAI object at 0x7f5df7c5ac00>, temperature=0.0, model_kwargs={}, openai_api_key=SecretStr('**********'), disabled_params={'parallel_tool_calls': None}, azure_endpoint='https://open-aj.openai.azure.com/', deployment_name='gpt-4o', openai_api_version='2024-08-01-preview', openai_api_type='azure')"
      ]
     },
     "execution_count": 25,
     "metadata": {},
     "output_type": "execute_result"
    }
   ],
   "source": [
    "llm = AzureChatOpenAI(\n",
    "    azure_deployment=\"gpt-4o\", api_version=\"2024-08-01-preview\", temperature=0\n",
    ")\n",
    "\n",
    "llm"
   ]
  },
  {
   "cell_type": "code",
   "execution_count": 5,
   "metadata": {},
   "outputs": [
    {
     "data": {
      "text/plain": [
       "AIMessage(content=\"Hello! I'm just a bunch of code, so I don't have feelings, but I'm here and ready to help you with whatever you need. How about you? How are you doing? 😊\", additional_kwargs={'refusal': None}, response_metadata={'token_usage': {'completion_tokens': 38, 'prompt_tokens': 13, 'total_tokens': 51, 'completion_tokens_details': {'accepted_prediction_tokens': 0, 'audio_tokens': 0, 'reasoning_tokens': 0, 'rejected_prediction_tokens': 0}, 'prompt_tokens_details': {'audio_tokens': 0, 'cached_tokens': 0}}, 'model_name': 'gpt-4o-2024-11-20', 'system_fingerprint': 'fp_b705f0c291', 'prompt_filter_results': [{'prompt_index': 0, 'content_filter_results': {'hate': {'filtered': False, 'severity': 'safe'}, 'jailbreak': {'filtered': False, 'detected': False}, 'self_harm': {'filtered': False, 'severity': 'safe'}, 'sexual': {'filtered': False, 'severity': 'safe'}, 'violence': {'filtered': False, 'severity': 'safe'}}}], 'finish_reason': 'stop', 'logprobs': None, 'content_filter_results': {'hate': {'filtered': False, 'severity': 'safe'}, 'self_harm': {'filtered': False, 'severity': 'safe'}, 'sexual': {'filtered': False, 'severity': 'safe'}, 'violence': {'filtered': False, 'severity': 'safe'}}}, id='run-fc167254-e289-48f8-9508-e680551133dc-0', usage_metadata={'input_tokens': 13, 'output_tokens': 38, 'total_tokens': 51, 'input_token_details': {'audio': 0, 'cache_read': 0}, 'output_token_details': {'audio': 0, 'reasoning': 0}})"
      ]
     },
     "execution_count": 5,
     "metadata": {},
     "output_type": "execute_result"
    }
   ],
   "source": [
    "result = llm.invoke(\"Hello, how are you?\")\n",
    "result"
   ]
  },
  {
   "cell_type": "code",
   "execution_count": 6,
   "metadata": {},
   "outputs": [],
   "source": [
    "from typing_extensions import TypedDict\n",
    "\n",
    "\n",
    "class LearningState(TypedDict):\n",
    "    prompt: str"
   ]
  },
  {
   "cell_type": "code",
   "execution_count": 7,
   "metadata": {},
   "outputs": [],
   "source": [
    "# prompt: create an example from above LearningState\n",
    "india_state: LearningState = LearningState(prompt=\"hello from India\")"
   ]
  },
  {
   "cell_type": "code",
   "execution_count": 11,
   "metadata": {},
   "outputs": [
    {
     "name": "stdout",
     "output_type": "stream",
     "text": [
      "{'prompt': 'hello from India'}\n",
      "hello from India\n",
      "hello from India I am\n",
      "{'prompt': 'hello from India'}\n",
      "<class 'dict'>\n"
     ]
    }
   ],
   "source": [
    "print(india_state)\n",
    "print(india_state[\"prompt\"])\n",
    "print(india_state[\"prompt\"] + \" I am\")\n",
    "print(india_state)\n",
    "print(type(india_state))"
   ]
  },
  {
   "cell_type": "code",
   "execution_count": 12,
   "metadata": {},
   "outputs": [],
   "source": [
    "def node_1(state: LearningState) -> LearningState:\n",
    "    print(\"---Node 1 State---\", state)\n",
    "    return LearningState(prompt=state[\"prompt\"] + \" I am\")"
   ]
  },
  {
   "cell_type": "code",
   "execution_count": 13,
   "metadata": {},
   "outputs": [],
   "source": [
    "def node_2(state: LearningState) -> LearningState:\n",
    "    print(\"---Node 2 State---\", state)\n",
    "    return {\"prompt\": state[\"prompt\"] + \" happy!\"}"
   ]
  },
  {
   "cell_type": "code",
   "execution_count": 15,
   "metadata": {},
   "outputs": [
    {
     "name": "stdout",
     "output_type": "stream",
     "text": [
      "<class 'langgraph.graph.state.StateGraph'>\n"
     ]
    }
   ],
   "source": [
    "from IPython.display import Image, display  # Preview Graph\n",
    "\n",
    "from langgraph.graph import StateGraph, START, END\n",
    "from langgraph.graph.state import CompiledStateGraph  # type\n",
    "\n",
    "# Build graph\n",
    "builder = StateGraph(state_schema=LearningState)\n",
    "print(type(builder))"
   ]
  },
  {
   "cell_type": "code",
   "execution_count": 16,
   "metadata": {},
   "outputs": [
    {
     "data": {
      "text/plain": [
       "<langgraph.graph.state.StateGraph at 0x7f5df7fd65d0>"
      ]
     },
     "execution_count": 16,
     "metadata": {},
     "output_type": "execute_result"
    }
   ],
   "source": [
    "# Nodes\n",
    "builder.add_node(\"node_1\", node_1)\n",
    "builder.add_node(\"node_2\", node_2)"
   ]
  },
  {
   "cell_type": "code",
   "execution_count": 17,
   "metadata": {},
   "outputs": [
    {
     "data": {
      "text/plain": [
       "<langgraph.graph.state.StateGraph at 0x7f5df7fd65d0>"
      ]
     },
     "execution_count": 17,
     "metadata": {},
     "output_type": "execute_result"
    }
   ],
   "source": [
    "# Simples Edges Logic\n",
    "builder.add_edge(START, \"node_1\")\n",
    "builder.add_edge(\"node_1\", \"node_2\")\n",
    "builder.add_edge(\"node_2\", END)"
   ]
  },
  {
   "cell_type": "code",
   "execution_count": 19,
   "metadata": {},
   "outputs": [
    {
     "name": "stdout",
     "output_type": "stream",
     "text": [
      "<langgraph.graph.state.CompiledStateGraph object at 0x7f5df7fd6600>\n",
      "Graph(nodes={'__start__': Node(id='__start__', name='__start__', data=<class 'langchain_core.utils.pydantic.LangGraphInput'>, metadata=None), 'node_1': Node(id='node_1', name='node_1', data=node_1(tags=None, recurse=True, explode_args=False, func_accepts_config=False, func_accepts={}), metadata=None), 'node_2': Node(id='node_2', name='node_2', data=node_2(tags=None, recurse=True, explode_args=False, func_accepts_config=False, func_accepts={}), metadata=None), '__end__': Node(id='__end__', name='__end__', data=<class 'langchain_core.utils.pydantic.LangGraphOutput'>, metadata=None)}, edges=[Edge(source='__start__', target='node_1', data=None, conditional=False), Edge(source='node_1', target='node_2', data=None, conditional=False), Edge(source='node_2', target='__end__', data=None, conditional=False)])\n"
     ]
    }
   ],
   "source": [
    "# Add\n",
    "graph: CompiledStateGraph = builder.compile()\n",
    "print(graph)\n",
    "print(graph.get_graph())"
   ]
  },
  {
   "cell_type": "code",
   "execution_count": 21,
   "metadata": {},
   "outputs": [
    {
     "data": {
      "image/png": "[encoded data removed]",
      "text/plain": [
       "<IPython.core.display.Image object>"
      ]
     },
     "metadata": {},
     "output_type": "display_data"
    }
   ],
   "source": [
    "# view\n",
    "display(Image(graph.get_graph().draw_mermaid_png()))"
   ]
  },
  {
   "cell_type": "code",
   "execution_count": 42,
   "metadata": {},
   "outputs": [],
   "source": [
    "from typing_extensions import TypedDict\n",
    "from langchain_core.messages.ai import AIMessage\n",
    "\n",
    "\n",
    "class FirstLLMAgentCall(TypedDict):\n",
    "    prompt: str\n",
    "    output: str"
   ]
  },
  {
   "cell_type": "code",
   "execution_count": 43,
   "metadata": {},
   "outputs": [],
   "source": [
    "def llm_node(state: FirstLLMAgentCall):\n",
    "    print(\"---Node 1---\", state)\n",
    "    prompt = state[\"prompt\"]\n",
    "    ai_msg: AIMessage = llm.invoke(prompt)\n",
    "    return {\"output\": ai_msg.content}"
   ]
  },
  {
   "cell_type": "code",
   "execution_count": 35,
   "metadata": {},
   "outputs": [
    {
     "name": "stdout",
     "output_type": "stream",
     "text": [
      "---Node 1--- {'prompt': 'Hello from India'}\n",
      "{'output': \"Hello from here! 😊 How are you doing today? How's everything in beautiful India?\"}\n"
     ]
    }
   ],
   "source": [
    "greet_message = llm_node(FirstLLMAgentCall(prompt=\"Hello from India\"))\n",
    "print(greet_message)"
   ]
  },
  {
   "cell_type": "code",
   "execution_count": 44,
   "metadata": {},
   "outputs": [],
   "source": [
    "from IPython.display import Image, display  # Preview Graph\n",
    "\n",
    "from langgraph.graph import StateGraph, START, END\n",
    "from langgraph.graph.state import CompiledStateGraph  # type\n",
    "\n",
    "# Build graph\n",
    "builder: StateGraph = StateGraph(state_schema=FirstLLMAgentCall)\n",
    "\n",
    "# Define Nodes\n",
    "builder.add_node(\"llm_call_node\", llm_node)\n",
    "\n",
    "# Add Edges\n",
    "builder.add_edge(START, \"llm_call_node\")\n",
    "builder.add_edge(\"llm_call_node\", END)\n",
    "\n",
    "# Compile Graph\n",
    "graph: CompiledStateGraph = builder.compile()"
   ]
  },
  {
   "cell_type": "code",
   "execution_count": 45,
   "metadata": {},
   "outputs": [
    {
     "data": {
      "image/png": "[encoded data removed]",
      "text/plain": [
       "<IPython.core.display.Image object>"
      ]
     },
     "metadata": {},
     "output_type": "display_data"
    }
   ],
   "source": [
    "# View\n",
    "display(Image(graph.get_graph().draw_mermaid_png()))"
   ]
  },
  {
   "cell_type": "code",
   "execution_count": 46,
   "metadata": {},
   "outputs": [
    {
     "name": "stdout",
     "output_type": "stream",
     "text": [
      "---Node 1--- {'prompt': 'Motivate me to learn LangGraph'}\n"
     ]
    }
   ],
   "source": [
    "result = graph.invoke({\"prompt\": \"Motivate me to learn LangGraph\"})"
   ]
  },
  {
   "cell_type": "code",
   "execution_count": 47,
   "metadata": {},
   "outputs": [
    {
     "name": "stdout",
     "output_type": "stream",
     "text": [
      "{'prompt': 'Motivate me to learn LangGraph', 'output': 'Absolutely! Learning **LangGraph** (assuming you\\'re referring to a graph-based language model framework or a similar concept) can be an incredibly rewarding and forward-thinking skill to develop. Here\\'s why you should dive in and get excited about it:\\n\\n---\\n\\n### 🚀 **1. Cutting-Edge Technology**\\nLangGraph represents the intersection of **graph theory** and **language models**, two of the most exciting fields in AI and data science. By learning it, you\\'re positioning yourself at the forefront of innovation, where the future of AI is being shaped. Imagine being part of the next big leap in natural language processing (NLP)!\\n\\n---\\n\\n### 🌐 **2. Real-World Applications**\\nLangGraph can be applied to solve **complex, real-world problems**:\\n- **Knowledge Graphs**: Build smarter systems that understand relationships between concepts (e.g., Google Knowledge Graph).\\n- **Recommendation Systems**: Create personalized recommendations by analyzing user behavior and preferences.\\n- **Semantic Search**: Enable more accurate and context-aware search engines.\\n- **Social Network Analysis**: Understand and predict patterns in social media or organizational networks.\\n\\nBy mastering LangGraph, you\\'ll have the tools to tackle these challenges and make a tangible impact.\\n\\n---\\n\\n### 🧠 **3. Supercharge Your Problem-Solving Skills**\\nGraph-based approaches are **intuitive yet powerful**. They allow you to model relationships and dependencies in ways that traditional methods can\\'t. Learning LangGraph will sharpen your ability to think in terms of **connections, hierarchies, and networks**, which is a valuable skill in any technical field.\\n\\n---\\n\\n### 💼 **4. Career Opportunities**\\nThe demand for professionals skilled in **graph-based AI** and **NLP** is skyrocketing. Companies like Google, Microsoft, and OpenAI are investing heavily in these technologies. By learning LangGraph, you\\'ll make yourself a **highly sought-after expert** in a niche but rapidly growing area.\\n\\n---\\n\\n### 🛠️ **5. Build Cool Projects**\\nLangGraph opens the door to creating **innovative and impactful projects**:\\n- Build a chatbot that understands context better than ever.\\n- Create a graph-based summarization tool for massive datasets.\\n- Develop a system that maps out and visualizes relationships in unstructured text.\\n\\nThe possibilities are endless, and you\\'ll have the satisfaction of building something truly unique.\\n\\n---\\n\\n### 🌱 **6. Learn Once, Apply Everywhere**\\nThe skills you gain from LangGraph are **transferable**:\\n- **Graph Theory**: Useful in data science, network analysis, and even game development.\\n- **NLP**: A core skill in AI, applicable to chatbots, translation, and more.\\n- **Programming**: You\\'ll likely deepen your knowledge of Python, libraries like NetworkX, and frameworks like PyTorch or TensorFlow.\\n\\nBy learning LangGraph, you\\'re investing in a skill set that will serve you across multiple domains.\\n\\n---\\n\\n### 🔮 **7. Be a Pioneer**\\nLangGraph is still a relatively new concept (or at least not as mainstream as other AI tools). By learning it now, you\\'re becoming an **early adopter**. This gives you the chance to:\\n- Contribute to the field.\\n- Share your knowledge with others.\\n- Stand out as a thought leader in your industry.\\n\\n---\\n\\n### 🧗 **8. Challenge Yourself**\\nLearning something new is always a challenge, but that\\'s what makes it exciting! LangGraph will push you to think differently, explore new paradigms, and grow as a developer, data scientist, or researcher. The sense of accomplishment you\\'ll feel when you master it will be worth every moment of effort.\\n\\n---\\n\\n### 🔥 **9. Stay Ahead of the Curve**\\nAI is evolving rapidly, and the ability to work with **graph-based models** could soon become a **must-have skill**. By starting now, you\\'re future-proofing your career and staying ahead of the competition.\\n\\n---\\n\\n### 🌟 **10. It\\'s Fun!**\\nAt its core, LangGraph is about exploring relationships and connections—something that\\'s inherently fascinating. Whether you\\'re visualizing a network of ideas or building a system that \"thinks\" in graphs, you\\'ll find the process both intellectually stimulating and creatively fulfilling.\\n\\n---\\n\\n### Final Thought:\\nLangGraph isn\\'t just a tool—it\\'s a **gateway to the future of AI**. By learning it, you\\'re not just keeping up with the times; you\\'re helping to shape them. So take the leap, embrace the challenge, and start your journey into the exciting world of LangGraph today. You\\'ve got this! 💪\\n\\n'}\n"
     ]
    }
   ],
   "source": [
    "print(result)"
   ]
  },
  {
   "cell_type": "code",
   "execution_count": 48,
   "metadata": {},
   "outputs": [],
   "source": [
    "# just another helpter function\n",
    "import textwrap\n",
    "from IPython.display import display, Markdown\n",
    "\n",
    "\n",
    "def to_markdown(text) -> Markdown:\n",
    "    text: str = text.replace(\"•\", \"  *\")\n",
    "    return Markdown(textwrap.indent(text, \"> \", predicate=lambda _: True))"
   ]
  },
  {
   "cell_type": "code",
   "execution_count": 49,
   "metadata": {},
   "outputs": [
    {
     "name": "stdout",
     "output_type": "stream",
     "text": [
      "PROMPT:  Motivate me to learn LangGraph\n"
     ]
    },
    {
     "data": {
      "text/markdown": [
       "> Absolutely! Learning **LangGraph** (assuming you're referring to a graph-based language model framework or a similar concept) can be an incredibly rewarding and forward-thinking skill to develop. Here's why you should dive in and get excited about it:\n",
       "> \n",
       "> ---\n",
       "> \n",
       "> ### 🚀 **1. Cutting-Edge Technology**\n",
       "> LangGraph represents the intersection of **graph theory** and **language models**, two of the most exciting fields in AI and data science. By learning it, you're positioning yourself at the forefront of innovation, where the future of AI is being shaped. Imagine being part of the next big leap in natural language processing (NLP)!\n",
       "> \n",
       "> ---\n",
       "> \n",
       "> ### 🌐 **2. Real-World Applications**\n",
       "> LangGraph can be applied to solve **complex, real-world problems**:\n",
       "> - **Knowledge Graphs**: Build smarter systems that understand relationships between concepts (e.g., Google Knowledge Graph).\n",
       "> - **Recommendation Systems**: Create personalized recommendations by analyzing user behavior and preferences.\n",
       "> - **Semantic Search**: Enable more accurate and context-aware search engines.\n",
       "> - **Social Network Analysis**: Understand and predict patterns in social media or organizational networks.\n",
       "> \n",
       "> By mastering LangGraph, you'll have the tools to tackle these challenges and make a tangible impact.\n",
       "> \n",
       "> ---\n",
       "> \n",
       "> ### 🧠 **3. Supercharge Your Problem-Solving Skills**\n",
       "> Graph-based approaches are **intuitive yet powerful**. They allow you to model relationships and dependencies in ways that traditional methods can't. Learning LangGraph will sharpen your ability to think in terms of **connections, hierarchies, and networks**, which is a valuable skill in any technical field.\n",
       "> \n",
       "> ---\n",
       "> \n",
       "> ### 💼 **4. Career Opportunities**\n",
       "> The demand for professionals skilled in **graph-based AI** and **NLP** is skyrocketing. Companies like Google, Microsoft, and OpenAI are investing heavily in these technologies. By learning LangGraph, you'll make yourself a **highly sought-after expert** in a niche but rapidly growing area.\n",
       "> \n",
       "> ---\n",
       "> \n",
       "> ### 🛠️ **5. Build Cool Projects**\n",
       "> LangGraph opens the door to creating **innovative and impactful projects**:\n",
       "> - Build a chatbot that understands context better than ever.\n",
       "> - Create a graph-based summarization tool for massive datasets.\n",
       "> - Develop a system that maps out and visualizes relationships in unstructured text.\n",
       "> \n",
       "> The possibilities are endless, and you'll have the satisfaction of building something truly unique.\n",
       "> \n",
       "> ---\n",
       "> \n",
       "> ### 🌱 **6. Learn Once, Apply Everywhere**\n",
       "> The skills you gain from LangGraph are **transferable**:\n",
       "> - **Graph Theory**: Useful in data science, network analysis, and even game development.\n",
       "> - **NLP**: A core skill in AI, applicable to chatbots, translation, and more.\n",
       "> - **Programming**: You'll likely deepen your knowledge of Python, libraries like NetworkX, and frameworks like PyTorch or TensorFlow.\n",
       "> \n",
       "> By learning LangGraph, you're investing in a skill set that will serve you across multiple domains.\n",
       "> \n",
       "> ---\n",
       "> \n",
       "> ### 🔮 **7. Be a Pioneer**\n",
       "> LangGraph is still a relatively new concept (or at least not as mainstream as other AI tools). By learning it now, you're becoming an **early adopter**. This gives you the chance to:\n",
       "> - Contribute to the field.\n",
       "> - Share your knowledge with others.\n",
       "> - Stand out as a thought leader in your industry.\n",
       "> \n",
       "> ---\n",
       "> \n",
       "> ### 🧗 **8. Challenge Yourself**\n",
       "> Learning something new is always a challenge, but that's what makes it exciting! LangGraph will push you to think differently, explore new paradigms, and grow as a developer, data scientist, or researcher. The sense of accomplishment you'll feel when you master it will be worth every moment of effort.\n",
       "> \n",
       "> ---\n",
       "> \n",
       "> ### 🔥 **9. Stay Ahead of the Curve**\n",
       "> AI is evolving rapidly, and the ability to work with **graph-based models** could soon become a **must-have skill**. By starting now, you're future-proofing your career and staying ahead of the competition.\n",
       "> \n",
       "> ---\n",
       "> \n",
       "> ### 🌟 **10. It's Fun!**\n",
       "> At its core, LangGraph is about exploring relationships and connections—something that's inherently fascinating. Whether you're visualizing a network of ideas or building a system that \"thinks\" in graphs, you'll find the process both intellectually stimulating and creatively fulfilling.\n",
       "> \n",
       "> ---\n",
       "> \n",
       "> ### Final Thought:\n",
       "> LangGraph isn't just a tool—it's a **gateway to the future of AI**. By learning it, you're not just keeping up with the times; you're helping to shape them. So take the leap, embrace the challenge, and start your journey into the exciting world of LangGraph today. You've got this! 💪\n",
       "> \n"
      ],
      "text/plain": [
       "<IPython.core.display.Markdown object>"
      ]
     },
     "execution_count": 49,
     "metadata": {},
     "output_type": "execute_result"
    }
   ],
   "source": [
    "print(\"PROMPT: \", result[\"prompt\"])\n",
    "to_markdown(result[\"output\"])"
   ]
  }
 ],
 "metadata": {
  "kernelspec": {
   "display_name": "venv",
   "language": "python",
   "name": "python3"
  },
  "language_info": {
   "codemirror_mode": {
    "name": "ipython",
    "version": 3
   },
   "file_extension": ".py",
   "mimetype": "text/x-python",
   "name": "python",
   "nbconvert_exporter": "python",
   "pygments_lexer": "ipython3",
   "version": "3.12.0"
  }
 },
 "nbformat": 4,
 "nbformat_minor": 2
}
