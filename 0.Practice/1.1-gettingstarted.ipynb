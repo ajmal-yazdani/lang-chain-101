{
 "cells": [
  {
   "cell_type": "code",
   "execution_count": 3,
   "metadata": {},
   "outputs": [],
   "source": [
    "from langchain_openai import AzureChatOpenAI\n",
    "from langchain_core.documents import Document\n",
    "from langchain_core.prompts import ChatPromptTemplate\n",
    "from langchain.chains.combine_documents import create_stuff_documents_chain"
   ]
  },
  {
   "cell_type": "code",
   "execution_count": 40,
   "metadata": {},
   "outputs": [],
   "source": [
    "prompt = ChatPromptTemplate.from_messages(\n",
    "    [(\"system\", \"What are everyone's favorite colors:\\n\\n{context}\")]\n",
    ")\n",
    "\n",
    "llm = AzureChatOpenAI(azure_deployment=\"gpt-4\", api_version=\"2024-08-01-preview\")\n",
    "\n",
    "# chain = create_stuff_documents_chain(llm=llm, prompt=prompt)\n",
    "# chain"
   ]
  },
  {
   "cell_type": "code",
   "execution_count": null,
   "metadata": {},
   "outputs": [
    {
     "data": {
      "text/plain": [
       "\"Jesse's favorite color is red.\\nJamal's favorite color is orange.\""
      ]
     },
     "execution_count": 7,
     "metadata": {},
     "output_type": "execute_result"
    }
   ],
   "source": [
    "docs = [\n",
    "    Document(page_content=\"Jesse loves red but not yellow\"),\n",
    "    Document(page_content=\"Jamal loves green but not as much as he loves orange\"),\n",
    "]\n",
    "\n",
    "# chain.invoke({\"context\": docs})"
   ]
  },
  {
   "cell_type": "code",
   "execution_count": 42,
   "metadata": {},
   "outputs": [
    {
     "data": {
      "text/plain": [
       "RunnableBinding(bound=RunnableBinding(bound=RunnableAssign(mapper={\n",
       "  context: RunnableLambda(format_docs)\n",
       "}), kwargs={}, config={'run_name': 'format_inputs'}, config_factories=[])\n",
       "| ChatPromptTemplate(input_variables=['context'], input_types={}, partial_variables={}, messages=[HumanMessagePromptTemplate(prompt=PromptTemplate(input_variables=['context'], input_types={}, partial_variables={}, template='\\nAnswer the following question based only on the provided context:\\n<context>\\n{context}\\n</context>\\n'), additional_kwargs={})])\n",
       "| AzureChatOpenAI(client=<openai.resources.chat.completions.Completions object at 0x7f4429e5fc50>, async_client=<openai.resources.chat.completions.AsyncCompletions object at 0x7f4429e5f1d0>, root_client=<openai.lib.azure.AzureOpenAI object at 0x7f4429e62630>, root_async_client=<openai.lib.azure.AsyncAzureOpenAI object at 0x7f4429e5fc80>, model_kwargs={}, openai_api_key=SecretStr('**********'), disabled_params={'parallel_tool_calls': None}, azure_endpoint='https://open-aj.openai.azure.com/', deployment_name='gpt-4', openai_api_version='2024-08-01-preview', openai_api_type='azure')\n",
       "| StrOutputParser(), kwargs={}, config={'run_name': 'stuff_documents_chain'}, config_factories=[])"
      ]
     },
     "execution_count": 42,
     "metadata": {},
     "output_type": "execute_result"
    }
   ],
   "source": [
    "from langchain_core.prompts import ChatPromptTemplate\n",
    "\n",
    "llm = AzureChatOpenAI(azure_deployment=\"gpt-4\", api_version=\"2024-08-01-preview\")\n",
    "\n",
    "prompt = ChatPromptTemplate.from_template(\n",
    "    \"\"\"\n",
    "Answer the following question based only on the provided context:\n",
    "<context>\n",
    "{context}\n",
    "</context>\n",
    "\"\"\"\n",
    ")\n",
    "\n",
    "document_chain = create_stuff_documents_chain(llm=llm, prompt=prompt)\n",
    "document_chain"
   ]
  },
  {
   "cell_type": "code",
   "execution_count": 9,
   "metadata": {},
   "outputs": [
    {
     "data": {
      "text/plain": [
       "\"Sorry, I'm not sure exactly what everyone's favorite colors are. Could you specify whose favorite colors you're asking about or if you're interested in general statistics?\""
      ]
     },
     "execution_count": 9,
     "metadata": {},
     "output_type": "execute_result"
    }
   ],
   "source": [
    "document_chain.invoke(\n",
    "    {\n",
    "        \"input\": \"Note that ChatModels receive message objects as input\",\n",
    "        \"context\": [\n",
    "            Document(\n",
    "                page_content=\"Note that ChatModels receive message objects as input and generate message objects as output. In addition to text content, message objects convey conversational roles and hold important data, such as tool calls and token usage counts.\\nLangChain also supports chat model inputs via strings or OpenAI format. The following are equivalent:\\nmodel.invoke('Hello')model.invoke([{'role': 'user', 'content': 'Hello'}])model.invoke([HumanMessage('Hello')]) StreamingBecause chat models are Runnables, they expose a standard interface that includes async and streaming modes of invocation. This allows us to stream individual tokens from a chat model:\\nfor token in model.stream(messages):    print(token.content, end='|')|C|iao|!|| You can find more details on streaming chat model outputs in this guide.\\nPrompt Templates\"\n",
    "            )\n",
    "        ],\n",
    "    }\n",
    ")"
   ]
  },
  {
   "cell_type": "code",
   "execution_count": 43,
   "metadata": {},
   "outputs": [],
   "source": [
    "import os\n",
    "from dotenv import load_dotenv\n",
    "from langchain_community.document_loaders import WebBaseLoader\n",
    "from langchain_text_splitters import RecursiveCharacterTextSplitter\n",
    "from langchain_openai import AzureOpenAIEmbeddings\n",
    "from langchain_community.vectorstores import FAISS"
   ]
  },
  {
   "cell_type": "code",
   "execution_count": 44,
   "metadata": {},
   "outputs": [],
   "source": [
    "load_dotenv()\n",
    "\n",
    "azure_openai_api_key: str | None = os.getenv(\"AZURE_OPENAI_API_KEY\")\n",
    "if azure_openai_api_key:\n",
    "    os.environ[\"AZURE_OPENAI_API_KEY\"] = azure_openai_api_key"
   ]
  },
  {
   "cell_type": "code",
   "execution_count": 45,
   "metadata": {},
   "outputs": [
    {
     "data": {
      "text/plain": [
       "[Document(metadata={'source': 'https://www.honeywell.com/us/en/news/2025/01/5-retail-trends-changing-the-way-you-shop-in-2025', 'title': '5 Retail Trends Changing the Way You Shop in 2025', 'description': 'Learn about the five retail trends set to shape shopping in 2025, from AI-driven customer service to new ways retailers invest in their teams.', 'language': 'en-US'}, page_content=\"\\n\\n\\n\\n\\n5 Retail Trends Changing the Way You Shop in 2025\\n\\n\\n\\n\\n\\n\\n\\n\\n\\n\\n\\n\\n\\n\\n\\n\\n\\n\\n\\n\\n\\n\\n\\n\\n\\n\\n\\n\\n\\n\\n\\n\\n\\n\\n\\n\\n\\n\\n\\n\\n\\n\\n\\n\\n\\n\\n\\n\\n\\n\\n\\n\\n\\n\\n\\n\\n\\n\\n\\n\\n\\n\\n\\n\\n\\n\\n\\n\\n\\n\\n\\nGlobal\\n\\n\\n\\n\\n\\n\\n\\n\\n\\n                        Africa\\n                        \\n\\n\\n\\n\\n\\n\\n\\nAlgeria - English \\n\\n\\n\\n\\n\\n\\nAngola - English \\n\\n\\n\\n\\n\\n\\nKenya - English \\n\\n\\n\\n\\n\\n\\nMorocco - French \\n\\n\\n\\n\\n\\n\\nNigeria - English \\n\\n\\n\\n\\n\\n\\nSouth Africa - English \\n\\n\\n\\n\\n\\n\\nTunisia - French \\n\\n\\n\\n\\n\\n\\n\\n\\n                        Asia Pacific\\n                        \\n\\n\\n\\n\\n\\n\\n\\nAustralia - English \\n\\n\\n\\n\\n\\n\\nChina - Chinese \\n\\n\\n\\n\\n\\n\\nIndia - English \\n\\n\\n\\n\\n\\n\\nIndonesia - Indonesian\\n\\n\\n\\n\\n\\n\\nJapan - Japanese\\n\\n\\n\\n\\n\\n\\nMalaysia - English \\n\\n\\n\\n\\n\\n\\nRepublic of Korea - Korean\\n\\n\\n\\n\\n\\n\\nPhilippines - English \\n\\n\\n\\n\\n\\n\\nThailand - English \\n\\n\\n\\n\\n\\n\\nVietnam - Vietnamese\\n\\n\\n\\n\\n\\n\\n\\n\\n                        Europe\\n                        \\n\\n\\n\\n\\n\\n\\n\\nAustria - German\\n\\n\\n\\n\\n\\n\\nBelgium - French \\n\\n\\n\\n\\n\\n\\nBelgium - Dutch\\n\\n\\n\\n\\n\\n\\nBulgaria - Bulgarian\\n\\n\\n\\n\\n\\n\\nCzech Republic - English \\n\\n\\n\\n\\n\\n\\nDenmark - Danish\\n\\n\\n\\n\\n\\n\\nFinland - Finnish\\n\\n\\n\\n\\n\\n\\nFrance - French \\n\\n\\n\\n\\n\\n\\nGermany - German\\n\\n\\n\\n\\n\\n\\nHungary - Hungarian\\n\\n\\n\\n\\n\\n\\nItaly - Italian\\n\\n\\n\\n\\n\\n\\nNetherlands - Dutch\\n\\n\\n\\n\\n\\n\\nNorway - Norwegian\\n\\n\\n\\n\\n\\n\\nPoland - Polish\\n\\n\\n\\n\\n\\n\\nRomania - English \\n\\n\\n\\n\\n\\n\\nSlovakia - Slovak\\n\\n\\n\\n\\n\\n\\nSwitzerland - French \\n\\n\\n\\n\\n\\n\\nSwitzerland - German\\n\\n\\n\\n\\n\\n\\nTurkey - Turkish\\n\\n\\n\\n\\n\\n\\nUnited Kingdom - English \\n\\n\\n\\n\\n\\n\\n\\n\\n                        Latin America\\n                        \\n\\n\\n\\n\\n\\n\\n\\nBrazil - Portuguese \\n\\n\\n\\n\\n\\n\\nMexico - Spanish \\n\\n\\n\\n\\n\\n\\n\\n\\n                        Middle East\\n                        \\n\\n\\n\\n\\n\\n\\n\\nEgypt - English \\n\\n\\n\\n\\n\\n\\nIraq - English \\n\\n\\n\\n\\n\\n\\nKuwait - English \\n\\n\\n\\n\\n\\n\\nOman - English \\n\\n\\n\\n\\n\\n\\nQatar - English \\n\\n\\n\\n\\n\\n\\nSaudi Arabia - Arabic\\n\\n\\n\\n\\n\\n\\nSaudi Arabia - English \\n\\n\\n\\n\\n\\n\\nUnited Arab Emirates - Arabic\\n\\n\\n\\n\\n\\n\\nUnited Arab Emirates - English \\n\\n\\n\\n\\n\\n\\n\\n\\n                        North America\\n                        \\n\\n\\n\\n\\n\\n\\n\\nCanada - English \\n\\n\\n\\n\\n\\n\\nCanada - French \\n\\n\\n\\n\\n\\n\\nUnited States - English \\n\\n\\n\\n\\n\\n\\n\\n\\n\\n\\n\\n\\n\\n\\n\\n|\\n\\n\\nBUSINESSES\\n\\n\\n\\n\\n\\n                            BUSINESSES\\n                        \\n\\n\\n\\nAerospace Technologies\\n\\n\\n\\n\\n\\nIndustrial Automation\\n\\n\\n\\n\\n\\nBuilding Automation\\n\\n\\n\\n\\n\\nEnergy And Sustainability Solutions\\n\\n\\n\\n\\n\\n\\n|\\nContact\\n|\\n\\n\\n\\n\\n\\n\\n\\n\\n\\n\\n\\n\\n\\n\\n\\n\\n\\n\\n\\n\\n\\n\\n\\nClose\\n\\n\\n\\n\\n\\n\\nSolutions\\n                            \\n                        \\n\\n\\n\\n\\n\\n\\n                                        Solutions\\n                                    \\n\\n\\n\\n\\nAutomation\\n\\n\\n\\n\\n\\nEnergy Transition\\n\\n\\n\\n\\n\\nFuture of Aviation\\n\\n\\n\\n\\n\\nHoneywell Forge\\n\\n\\n\\n\\n\\nOT Cybersecurity\\n\\n\\n\\n\\n\\nOur Products\\n\\n\\n\\n\\n\\n\\n\\n\\n\\n\\n\\n\\n\\n\\nIndustries\\n                            \\n                        \\n\\n\\n\\n\\n\\n\\n                                        Industries\\n                                    \\n\\n\\n\\n\\nWhat We Do\\n\\n\\n\\n\\n\\nAerospace\\n\\n\\n\\n\\n\\nCommercial Buildings\\n\\n\\n\\n\\n\\nData Centers\\n\\n\\n\\n\\n\\nEnergy\\n\\n\\n\\n\\n\\nHealthcare\\n\\n\\n\\n\\n\\nLife Sciences\\n\\n\\n\\n\\n\\nManufacturing\\n\\n\\n\\n\\n\\nRetail\\n\\n\\n\\n\\n\\nUtilities\\n\\n\\n\\n\\n\\nWarehouse & Logistics\\n\\n\\n\\n\\n\\n\\n\\n\\n\\n\\n\\n\\n\\n\\nCustomers\\n                                \\n                            \\n\\n\\n\\n\\n\\n\\n\\n\\nCompany\\n                            \\n                        \\n\\n\\n\\n\\n\\n\\n                                        Company\\n                                    \\n\\n\\n\\n\\nAbout Us\\n\\n\\n\\n\\n\\nInvestors\\n\\n\\n\\n\\n\\nHistory\\n\\n\\n\\n\\n\\nQuantum\\n\\n\\n\\n\\n\\nSustainability\\n\\n\\n\\n\\n\\nVentures\\n\\n\\n\\n\\n\\n\\n\\n\\n\\n\\n\\n\\n\\n\\nNews & Media\\n                            \\n                        \\n\\n\\n\\n\\n\\n\\n                                        News & Media\\n                                    \\n\\n\\n\\n\\nPress Releases & Media\\n\\n\\n\\n\\n\\nOur Stories\\n\\n\\n\\n\\n\\nPodcast\\n\\n\\n\\n\\n\\n\\n\\n\\n\\n\\n\\n\\n\\n\\nCareers\\n                                \\n                            \\n\\n\\n\\n\\n\\n\\n\\n\\n\\n\\n\\n\\n\\n\\n\\n\\n\\n\\n\\n\\n\\n\\n\\n\\n\\n\\n\\n\\nGlobal\\n\\n\\n\\n\\n\\n\\n\\n\\n\\n                        Africa\\n                        \\n\\n\\n\\n\\n\\n\\n\\nAlgeria - English \\n\\n\\n\\n\\n\\n\\nAngola - English \\n\\n\\n\\n\\n\\n\\nKenya - English \\n\\n\\n\\n\\n\\n\\nMorocco - French \\n\\n\\n\\n\\n\\n\\nNigeria - English \\n\\n\\n\\n\\n\\n\\nSouth Africa - English \\n\\n\\n\\n\\n\\n\\nTunisia - French \\n\\n\\n\\n\\n\\n\\n\\n\\n                        Asia Pacific\\n                        \\n\\n\\n\\n\\n\\n\\n\\nAustralia - English \\n\\n\\n\\n\\n\\n\\nChina - Chinese \\n\\n\\n\\n\\n\\n\\nIndia - English \\n\\n\\n\\n\\n\\n\\nIndonesia - Indonesian\\n\\n\\n\\n\\n\\n\\nJapan - Japanese\\n\\n\\n\\n\\n\\n\\nMalaysia - English \\n\\n\\n\\n\\n\\n\\nRepublic of Korea - Korean\\n\\n\\n\\n\\n\\n\\nPhilippines - English \\n\\n\\n\\n\\n\\n\\nThailand - English \\n\\n\\n\\n\\n\\n\\nVietnam - Vietnamese\\n\\n\\n\\n\\n\\n\\n\\n\\n                        Europe\\n                        \\n\\n\\n\\n\\n\\n\\n\\nAustria - German\\n\\n\\n\\n\\n\\n\\nBelgium - French \\n\\n\\n\\n\\n\\n\\nBelgium - Dutch\\n\\n\\n\\n\\n\\n\\nBulgaria - Bulgarian\\n\\n\\n\\n\\n\\n\\nCzech Republic - English \\n\\n\\n\\n\\n\\n\\nDenmark - Danish\\n\\n\\n\\n\\n\\n\\nFinland - Finnish\\n\\n\\n\\n\\n\\n\\nFrance - French \\n\\n\\n\\n\\n\\n\\nGermany - German\\n\\n\\n\\n\\n\\n\\nHungary - Hungarian\\n\\n\\n\\n\\n\\n\\nItaly - Italian\\n\\n\\n\\n\\n\\n\\nNetherlands - Dutch\\n\\n\\n\\n\\n\\n\\nNorway - Norwegian\\n\\n\\n\\n\\n\\n\\nPoland - Polish\\n\\n\\n\\n\\n\\n\\nRomania - English \\n\\n\\n\\n\\n\\n\\nSlovakia - Slovak\\n\\n\\n\\n\\n\\n\\nSwitzerland - French \\n\\n\\n\\n\\n\\n\\nSwitzerland - German\\n\\n\\n\\n\\n\\n\\nTurkey - Turkish\\n\\n\\n\\n\\n\\n\\nUnited Kingdom - English \\n\\n\\n\\n\\n\\n\\n\\n\\n                        Latin America\\n                        \\n\\n\\n\\n\\n\\n\\n\\nBrazil - Portuguese \\n\\n\\n\\n\\n\\n\\nMexico - Spanish \\n\\n\\n\\n\\n\\n\\n\\n\\n                        Middle East\\n                        \\n\\n\\n\\n\\n\\n\\n\\nEgypt - English \\n\\n\\n\\n\\n\\n\\nIraq - English \\n\\n\\n\\n\\n\\n\\nKuwait - English \\n\\n\\n\\n\\n\\n\\nOman - English \\n\\n\\n\\n\\n\\n\\nQatar - English \\n\\n\\n\\n\\n\\n\\nSaudi Arabia - Arabic\\n\\n\\n\\n\\n\\n\\nSaudi Arabia - English \\n\\n\\n\\n\\n\\n\\nUnited Arab Emirates - Arabic\\n\\n\\n\\n\\n\\n\\nUnited Arab Emirates - English \\n\\n\\n\\n\\n\\n\\n\\n\\n                        North America\\n                        \\n\\n\\n\\n\\n\\n\\n\\nCanada - English \\n\\n\\n\\n\\n\\n\\nCanada - French \\n\\n\\n\\n\\n\\n\\nUnited States - English \\n\\n\\n\\n\\n\\n\\n\\n\\n\\n\\n\\n\\n\\n\\n\\n|\\n\\n\\nBUSINESSES\\n\\n\\n\\n\\n\\n                            BUSINESSES\\n                        \\n\\n\\n\\nAerospace Technologies\\n\\n\\n\\n\\n\\nIndustrial Automation\\n\\n\\n\\n\\n\\nBuilding Automation\\n\\n\\n\\n\\n\\nEnergy And Sustainability Solutions\\n\\n\\n\\n\\n\\n\\n|\\nContact\\n|\\n\\n\\n\\n\\n\\n\\n\\n\\nSearch\\n\\n\\n\\n\\n\\nYou are browsing the product catalog for \\nYou are viewing the overview and resources for\\n\\n\\n\\n\\n\\n\\n\\n\\n\\n\\n\\n\\n\\n\\n\\n\\n\\n\\n\\n\\n\\n\\n\\n\\n\\n\\n\\n\\n\\n\\n\\n/content/honeywellbt/us/en/search.html\\n\\ntitle\\nsubtitle\\n\\n\\n\\n\\n\\n\\n\\n\\n\\n\\n\\n\\n\\n\\n\\n\\n\\n News \\n\\n\\n\\n 5 Retail Trends Changing the Way You Shop in 2025\\n\\n\\n\\n\\n\\n\\n\\n\\n\\n\\n\\n\\n\\n\\n\\n\\n\\n\\n\\n\\n\\n\\n\\n\\n\\n\\n\\n\\n\\n\\n\\n\\n\\n\\n\\n\\n\\n\\n\\n\\n\\n\\n\\n\\n\\n\\n\\n\\n\\n\\n\\n\\n\\n\\n\\n\\n\\n\\n5 Retail Trends Changing the Way You Shop in 2025\\nConsumers should expect more seamless checkouts and more personalized online shopping\\n\\n\\n\\n\\n\\n\\n\\n\\n\\n\\n\\n\\n\\n\\n\\n\\n \\n\\n\\n\\n\\n\\n\\n\\nWhether filling your virtual grocery cart from the comfort of your couch or using augmented reality to visualize a new furniture purchase in your space, shopping today is all about convenience and speed.\\nRetailers are working around the clock to keep up with consumers’ growing expectations. Expect to see AI agents, more experiential shopping experiences and seamless customer service.\\nWe're sharing new insights from our AI in Retail survey – a poll of retailers and holiday shoppers in the U.S. on their use of AI – and perspectives from one of our retail experts, Andres Avila, global marketing lead for Honeywell Productivity Services and Solutions. Keep reading to get the scoop on some of the trends impacting retailers this year and what shoppers should look forward to in the future.\\nRetailers are reinvesting in their workers\\nThe retail labor landscape is evolving. Even in the self-checkout era, Avila said that many retailers are reinvesting in their associates – including hiring more employees to support customer experience and help with security in stores.\\n“The difference now compared to two or three years ago is that many retailers expect workers to have more than one responsibility and be able to make decisions. They want all employees to help solve customer pain points,” Avila said.\\nTo enhance employee experience, many retailers are using AI tools to equip associates with real-time information to help them answer customers’ questions, such as about product inventory.\\xa0\\nMore than 6 in 10 retail executives surveyed in Honeywell’s AI in Retail Survey said that AI tools make the job easier for employees, and 55% said they increase job satisfaction. More than half of respondents believe AI can help employees progress more quickly in their careers, expand their soft skills and continuously provide value to their jobs.\\nConsumers expect “phygital” shopping experiences\\nThe line between online and brick-and-mortar shopping is continuing to blur. Consumers expect quick responses and the ability to compare products online while shopping in-store.\\n“Consumers want a blend of the physical and digital retail experiences where they can enjoy the best of both,” Avila said. “[Shoppers] do not want to have a completely different experience online and offline.”\\nExperiential retail is on the rise\\nSuccessful retailers are going beyond the transaction – a purchase or a return – to make a lasting impression on customers and build community. Expect to see more experiences like pop-ups, exhibits and immersive shopping experiences that focus on “phygital” retail growing in prominence.\\n“Consumers demand experiences and sometimes advice when visiting stores, making customer connections crucial,” Avila said.\\xa0\\nSupply chain resiliency and improved logistics\\nRetailers are focused on supply chain resiliency -- including automation, real-time tracking and strategies for overcoming global supply chain challenges, Avila said.\\nFor consumers, this could help with the speed of deliveries and even more accurate product inventory.\\nExpect to see AI used for more efficient day-to-day operations\\nRetailers are also using AI tools to streamline everyday operations, with new solutions having the potential to improve how employees assist customers. Honeywell’s AI in Retail Study found that over the next 12 months, 36% of retailers are investing in AI to improve returns management, 35% are focused on AI for automating customer service and 32% are using AI to enhance monitoring of product availability.\\nWith increasing use of AI capabilities and technologies, Avila said retailers are more focused on obtaining high-quality data about their inventory and products to ensure accurate AI applications.\\n“The conversation in the retail industry has shifted from simply the need to capture data to the importance of using it more effectively for decision-making,” Avila said.\\n\\xa0\\nRead the full press release for more insights from the AI Retail Study and discover how these technologies are shaping the future of retail.\\n\\n\\n\\n\\n\\n Contact Us\\n\\n\\n\\n\\n\\n\\n\\n\\n\\n\\n\\nRetail\\n\\n\\nAutomation\\n\\n\\n\\n\\n\\n\\n\\n\\n\\n \\n\\n\\n\\n\\n\\n\\n\\n\\n\\n\\n\\n\\n\\n\\n\\n\\n\\n\\n\\n\\n\\n\\n\\n\\nRelated Content\\n\\n\\n\\n\\n\\n\\n\\n\\n\\n\\n\\n\\nFrom Automation to Autonomy: What’s Next\\n\\n\\n\\n\\n\\n\\n\\n\\n\\n\\n\\n\\nTop Innovations of 2024\\n\\n\\n\\n\\n\\n\\n\\n\\n\\n\\n\\n\\nMeet a #Futureshaper: Abdulla Alsaadi\\n\\n\\n\\n\\n\\n\\n\\n\\n\\n\\n\\n\\n\\n\\n\\n\\n\\n\\n\\n\\n\\n\\n\\n\\n\\n\\n\\n\\n\\n\\n\\n\\n\\n\\n\\n\\n\\n\\n\\n\\n\\n\\n\\n\\nBusinesses\\n\\n\\ntoggle view\\n\\n\\nAerospace Technologies\\nIndustrial Automation\\nBuilding Automation\\nEnergy and Sustainability Solutions\\n\\n\\n\\n\\nSolutions\\n\\n\\ntoggle view\\n\\n\\nAutomation\\nEnergy Transition\\nFuture of Aviation\\nHoneywell Forge\\nOT Cybersecurity\\nOur Products\\n\\n\\n\\n\\n\\n\\nINDUSTRIES\\n\\n\\ntoggle view\\n\\n\\nAerospace\\nCommercial Buildings\\nEnergy\\nHealthcare\\nData Centers\\nLife Sciences\\nWarehouse & Logistics\\nManufacturing\\nRetail\\nUtilities\\n\\n\\n\\n\\nCustomer\\n\\n\\ntoggle view\\n\\n\\nCustomer Stories\\n\\n\\n\\n\\n\\n\\nCompany\\n\\n\\ntoggle view\\n\\n\\nAbout Us\\nHistory\\nInvestors\\nLeadership\\nInclusion & Diversity\\nStrategic Partners\\nAccessibility\\n\\n\\n\\n\\nNews & Media\\n\\n\\ntoggle view\\n\\n\\nPress Releases & Media\\nOur Stories\\nPodcast\\n\\n\\n\\n\\n\\n\\nCareers\\n\\n\\ntoggle view\\n\\n\\nCareers\\nJob Search\\n\\n\\n\\n\\nContact Us\\n\\n\\ntoggle view\\n\\n\\nSupport\\nBusiness Inquiries\\nEmployee Access\\n\\n\\n\\n\\n            FOLLOW US\\n\\n\\n\\n\\nLinkedIn\\n\\n\\n\\n\\n\\n\\n\\n\\n\\nFacebook\\n\\n\\n\\n\\n\\n\\n\\n\\nTwitter\\n\\n\\n\\n\\n\\n\\n\\n\\n\\n\\n\\nYouTube\\n\\n\\n\\n\\n\\n\\n\\n\\n\\nInstagram\\n\\n\\n\\n\\n\\n\\n\\n\\n\\n\\n\\n\\n\\n\\n\\n\\n\\n\\n\\n\\n\\n\\n\\nScroll to top\\n\\n\\n\\n\\nCopyright © 2025 Honeywell International Inc.\\n\\n\\n\\n\\nTerms & Conditions\\n\\n\\n\\nPrivacy Statement\\n\\n\\n\\nYour Privacy Choices\\n\\n\\n\\nCookie Notice\\n\\n\\n\\nGlobal Unsubscribe\\n\\n\\n\\n\\n\\n\\n\\n\\n\\n\\n\\n\\n\\n\\n\\n\\n\\n\\n\\n\\n\\n\\n\\n\\n\\n\\n\")]"
      ]
     },
     "execution_count": 45,
     "metadata": {},
     "output_type": "execute_result"
    }
   ],
   "source": [
    "loader = WebBaseLoader(\n",
    "    \"https://www.honeywell.com/us/en/news/2025/01/5-retail-trends-changing-the-way-you-shop-in-2025\"\n",
    ")\n",
    "\n",
    "document = loader.load()\n",
    "document"
   ]
  },
  {
   "cell_type": "code",
   "execution_count": 46,
   "metadata": {},
   "outputs": [
    {
     "data": {
      "text/plain": [
       "[Document(metadata={'source': 'https://www.honeywell.com/us/en/news/2025/01/5-retail-trends-changing-the-way-you-shop-in-2025', 'title': '5 Retail Trends Changing the Way You Shop in 2025', 'description': 'Learn about the five retail trends set to shape shopping in 2025, from AI-driven customer service to new ways retailers invest in their teams.', 'language': 'en-US'}, page_content='5 Retail Trends Changing the Way You Shop in 2025\\n\\n\\n\\n\\n\\n\\n\\n\\n\\n\\n\\n\\n\\n\\n\\n\\n\\n\\n\\n\\n\\n\\n\\n\\n\\n\\n\\n\\n\\n\\n\\n\\n\\n\\n\\n\\n\\n\\n\\n\\n\\n\\n\\n\\n\\n\\n\\n\\n\\n\\n\\n\\n\\n\\n\\n\\n\\n\\n\\n\\n\\n\\n\\n\\n\\n\\n\\n\\n\\n\\n\\nGlobal\\n\\n\\n\\n\\n\\n\\n\\n\\n\\n                        Africa\\n                        \\n\\n\\n\\n\\n\\n\\n\\nAlgeria - English \\n\\n\\n\\n\\n\\n\\nAngola - English \\n\\n\\n\\n\\n\\n\\nKenya - English \\n\\n\\n\\n\\n\\n\\nMorocco - French \\n\\n\\n\\n\\n\\n\\nNigeria - English \\n\\n\\n\\n\\n\\n\\nSouth Africa - English \\n\\n\\n\\n\\n\\n\\nTunisia - French \\n\\n\\n\\n\\n\\n\\n\\n\\n                        Asia Pacific\\n                        \\n\\n\\n\\n\\n\\n\\n\\nAustralia - English \\n\\n\\n\\n\\n\\n\\nChina - Chinese \\n\\n\\n\\n\\n\\n\\nIndia - English \\n\\n\\n\\n\\n\\n\\nIndonesia - Indonesian\\n\\n\\n\\n\\n\\n\\nJapan - Japanese\\n\\n\\n\\n\\n\\n\\nMalaysia - English \\n\\n\\n\\n\\n\\n\\nRepublic of Korea - Korean\\n\\n\\n\\n\\n\\n\\nPhilippines - English \\n\\n\\n\\n\\n\\n\\nThailand - English \\n\\n\\n\\n\\n\\n\\nVietnam - Vietnamese\\n\\n\\n\\n\\n\\n\\n\\n\\n                        Europe\\n                        \\n\\n\\n\\n\\n\\n\\n\\nAustria - German\\n\\n\\n\\n\\n\\n\\nBelgium - French \\n\\n\\n\\n\\n\\n\\nBelgium - Dutch\\n\\n\\n\\n\\n\\n\\nBulgaria - Bulgarian\\n\\n\\n\\n\\n\\n\\nCzech Republic - English \\n\\n\\n\\n\\n\\n\\nDenmark - Danish\\n\\n\\n\\n\\n\\n\\nFinland - Finnish\\n\\n\\n\\n\\n\\n\\nFrance - French \\n\\n\\n\\n\\n\\n\\nGermany - German'),\n",
       " Document(metadata={'source': 'https://www.honeywell.com/us/en/news/2025/01/5-retail-trends-changing-the-way-you-shop-in-2025', 'title': '5 Retail Trends Changing the Way You Shop in 2025', 'description': 'Learn about the five retail trends set to shape shopping in 2025, from AI-driven customer service to new ways retailers invest in their teams.', 'language': 'en-US'}, page_content='Belgium - French \\n\\n\\n\\n\\n\\n\\nBelgium - Dutch\\n\\n\\n\\n\\n\\n\\nBulgaria - Bulgarian\\n\\n\\n\\n\\n\\n\\nCzech Republic - English \\n\\n\\n\\n\\n\\n\\nDenmark - Danish\\n\\n\\n\\n\\n\\n\\nFinland - Finnish\\n\\n\\n\\n\\n\\n\\nFrance - French \\n\\n\\n\\n\\n\\n\\nGermany - German\\n\\n\\n\\n\\n\\n\\nHungary - Hungarian\\n\\n\\n\\n\\n\\n\\nItaly - Italian\\n\\n\\n\\n\\n\\n\\nNetherlands - Dutch\\n\\n\\n\\n\\n\\n\\nNorway - Norwegian\\n\\n\\n\\n\\n\\n\\nPoland - Polish\\n\\n\\n\\n\\n\\n\\nRomania - English \\n\\n\\n\\n\\n\\n\\nSlovakia - Slovak\\n\\n\\n\\n\\n\\n\\nSwitzerland - French \\n\\n\\n\\n\\n\\n\\nSwitzerland - German\\n\\n\\n\\n\\n\\n\\nTurkey - Turkish\\n\\n\\n\\n\\n\\n\\nUnited Kingdom - English \\n\\n\\n\\n\\n\\n\\n\\n\\n                        Latin America\\n                        \\n\\n\\n\\n\\n\\n\\n\\nBrazil - Portuguese \\n\\n\\n\\n\\n\\n\\nMexico - Spanish \\n\\n\\n\\n\\n\\n\\n\\n\\n                        Middle East\\n                        \\n\\n\\n\\n\\n\\n\\n\\nEgypt - English \\n\\n\\n\\n\\n\\n\\nIraq - English \\n\\n\\n\\n\\n\\n\\nKuwait - English \\n\\n\\n\\n\\n\\n\\nOman - English \\n\\n\\n\\n\\n\\n\\nQatar - English \\n\\n\\n\\n\\n\\n\\nSaudi Arabia - Arabic\\n\\n\\n\\n\\n\\n\\nSaudi Arabia - English \\n\\n\\n\\n\\n\\n\\nUnited Arab Emirates - Arabic\\n\\n\\n\\n\\n\\n\\nUnited Arab Emirates - English \\n\\n\\n\\n\\n\\n\\n\\n\\n                        North America'),\n",
       " Document(metadata={'source': 'https://www.honeywell.com/us/en/news/2025/01/5-retail-trends-changing-the-way-you-shop-in-2025', 'title': '5 Retail Trends Changing the Way You Shop in 2025', 'description': 'Learn about the five retail trends set to shape shopping in 2025, from AI-driven customer service to new ways retailers invest in their teams.', 'language': 'en-US'}, page_content='Saudi Arabia - English \\n\\n\\n\\n\\n\\n\\nUnited Arab Emirates - Arabic\\n\\n\\n\\n\\n\\n\\nUnited Arab Emirates - English \\n\\n\\n\\n\\n\\n\\n\\n\\n                        North America\\n                        \\n\\n\\n\\n\\n\\n\\n\\nCanada - English \\n\\n\\n\\n\\n\\n\\nCanada - French \\n\\n\\n\\n\\n\\n\\nUnited States - English \\n\\n\\n\\n\\n\\n\\n\\n\\n\\n\\n\\n\\n\\n\\n\\n|\\n\\n\\nBUSINESSES\\n\\n\\n\\n\\n\\n                            BUSINESSES\\n                        \\n\\n\\n\\nAerospace Technologies\\n\\n\\n\\n\\n\\nIndustrial Automation\\n\\n\\n\\n\\n\\nBuilding Automation\\n\\n\\n\\n\\n\\nEnergy And Sustainability Solutions\\n\\n\\n\\n\\n\\n\\n|\\nContact\\n|\\n\\n\\n\\n\\n\\n\\n\\n\\n\\n\\n\\n\\n\\n\\n\\n\\n\\n\\n\\n\\n\\n\\n\\nClose\\n\\n\\n\\n\\n\\n\\nSolutions\\n                            \\n                        \\n\\n\\n\\n\\n\\n\\n                                        Solutions\\n                                    \\n\\n\\n\\n\\nAutomation\\n\\n\\n\\n\\n\\nEnergy Transition\\n\\n\\n\\n\\n\\nFuture of Aviation\\n\\n\\n\\n\\n\\nHoneywell Forge\\n\\n\\n\\n\\n\\nOT Cybersecurity\\n\\n\\n\\n\\n\\nOur Products\\n\\n\\n\\n\\n\\n\\n\\n\\n\\n\\n\\n\\n\\n\\nIndustries\\n                            \\n                        \\n\\n\\n\\n\\n\\n\\n                                        Industries\\n                                    \\n\\n\\n\\n\\nWhat We Do'),\n",
       " Document(metadata={'source': 'https://www.honeywell.com/us/en/news/2025/01/5-retail-trends-changing-the-way-you-shop-in-2025', 'title': '5 Retail Trends Changing the Way You Shop in 2025', 'description': 'Learn about the five retail trends set to shape shopping in 2025, from AI-driven customer service to new ways retailers invest in their teams.', 'language': 'en-US'}, page_content='Industries\\n                            \\n                        \\n\\n\\n\\n\\n\\n\\n                                        Industries\\n                                    \\n\\n\\n\\n\\nWhat We Do\\n\\n\\n\\n\\n\\nAerospace\\n\\n\\n\\n\\n\\nCommercial Buildings\\n\\n\\n\\n\\n\\nData Centers\\n\\n\\n\\n\\n\\nEnergy\\n\\n\\n\\n\\n\\nHealthcare\\n\\n\\n\\n\\n\\nLife Sciences\\n\\n\\n\\n\\n\\nManufacturing\\n\\n\\n\\n\\n\\nRetail\\n\\n\\n\\n\\n\\nUtilities\\n\\n\\n\\n\\n\\nWarehouse & Logistics\\n\\n\\n\\n\\n\\n\\n\\n\\n\\n\\n\\n\\n\\n\\nCustomers\\n                                \\n                            \\n\\n\\n\\n\\n\\n\\n\\n\\nCompany\\n                            \\n                        \\n\\n\\n\\n\\n\\n\\n                                        Company\\n                                    \\n\\n\\n\\n\\nAbout Us\\n\\n\\n\\n\\n\\nInvestors\\n\\n\\n\\n\\n\\nHistory\\n\\n\\n\\n\\n\\nQuantum\\n\\n\\n\\n\\n\\nSustainability\\n\\n\\n\\n\\n\\nVentures\\n\\n\\n\\n\\n\\n\\n\\n\\n\\n\\n\\n\\n\\n\\nNews & Media\\n                            \\n                        \\n\\n\\n\\n\\n\\n\\n                                        News & Media\\n                                    \\n\\n\\n\\n\\nPress Releases & Media\\n\\n\\n\\n\\n\\nOur Stories\\n\\n\\n\\n\\n\\nPodcast'),\n",
       " Document(metadata={'source': 'https://www.honeywell.com/us/en/news/2025/01/5-retail-trends-changing-the-way-you-shop-in-2025', 'title': '5 Retail Trends Changing the Way You Shop in 2025', 'description': 'Learn about the five retail trends set to shape shopping in 2025, from AI-driven customer service to new ways retailers invest in their teams.', 'language': 'en-US'}, page_content='News & Media\\n                                    \\n\\n\\n\\n\\nPress Releases & Media\\n\\n\\n\\n\\n\\nOur Stories\\n\\n\\n\\n\\n\\nPodcast\\n\\n\\n\\n\\n\\n\\n\\n\\n\\n\\n\\n\\n\\n\\nCareers\\n                                \\n                            \\n\\n\\n\\n\\n\\n\\n\\n\\n\\n\\n\\n\\n\\n\\n\\n\\n\\n\\n\\n\\n\\n\\n\\n\\n\\n\\n\\n\\nGlobal\\n\\n\\n\\n\\n\\n\\n\\n\\n\\n                        Africa\\n                        \\n\\n\\n\\n\\n\\n\\n\\nAlgeria - English \\n\\n\\n\\n\\n\\n\\nAngola - English \\n\\n\\n\\n\\n\\n\\nKenya - English \\n\\n\\n\\n\\n\\n\\nMorocco - French \\n\\n\\n\\n\\n\\n\\nNigeria - English \\n\\n\\n\\n\\n\\n\\nSouth Africa - English \\n\\n\\n\\n\\n\\n\\nTunisia - French \\n\\n\\n\\n\\n\\n\\n\\n\\n                        Asia Pacific\\n                        \\n\\n\\n\\n\\n\\n\\n\\nAustralia - English \\n\\n\\n\\n\\n\\n\\nChina - Chinese \\n\\n\\n\\n\\n\\n\\nIndia - English \\n\\n\\n\\n\\n\\n\\nIndonesia - Indonesian\\n\\n\\n\\n\\n\\n\\nJapan - Japanese\\n\\n\\n\\n\\n\\n\\nMalaysia - English \\n\\n\\n\\n\\n\\n\\nRepublic of Korea - Korean\\n\\n\\n\\n\\n\\n\\nPhilippines - English \\n\\n\\n\\n\\n\\n\\nThailand - English \\n\\n\\n\\n\\n\\n\\nVietnam - Vietnamese\\n\\n\\n\\n\\n\\n\\n\\n\\n                        Europe\\n                        \\n\\n\\n\\n\\n\\n\\n\\nAustria - German\\n\\n\\n\\n\\n\\n\\nBelgium - French \\n\\n\\n\\n\\n\\n\\nBelgium - Dutch'),\n",
       " Document(metadata={'source': 'https://www.honeywell.com/us/en/news/2025/01/5-retail-trends-changing-the-way-you-shop-in-2025', 'title': '5 Retail Trends Changing the Way You Shop in 2025', 'description': 'Learn about the five retail trends set to shape shopping in 2025, from AI-driven customer service to new ways retailers invest in their teams.', 'language': 'en-US'}, page_content='Thailand - English \\n\\n\\n\\n\\n\\n\\nVietnam - Vietnamese\\n\\n\\n\\n\\n\\n\\n\\n\\n                        Europe\\n                        \\n\\n\\n\\n\\n\\n\\n\\nAustria - German\\n\\n\\n\\n\\n\\n\\nBelgium - French \\n\\n\\n\\n\\n\\n\\nBelgium - Dutch\\n\\n\\n\\n\\n\\n\\nBulgaria - Bulgarian\\n\\n\\n\\n\\n\\n\\nCzech Republic - English \\n\\n\\n\\n\\n\\n\\nDenmark - Danish\\n\\n\\n\\n\\n\\n\\nFinland - Finnish\\n\\n\\n\\n\\n\\n\\nFrance - French \\n\\n\\n\\n\\n\\n\\nGermany - German\\n\\n\\n\\n\\n\\n\\nHungary - Hungarian\\n\\n\\n\\n\\n\\n\\nItaly - Italian\\n\\n\\n\\n\\n\\n\\nNetherlands - Dutch\\n\\n\\n\\n\\n\\n\\nNorway - Norwegian\\n\\n\\n\\n\\n\\n\\nPoland - Polish\\n\\n\\n\\n\\n\\n\\nRomania - English \\n\\n\\n\\n\\n\\n\\nSlovakia - Slovak\\n\\n\\n\\n\\n\\n\\nSwitzerland - French \\n\\n\\n\\n\\n\\n\\nSwitzerland - German\\n\\n\\n\\n\\n\\n\\nTurkey - Turkish\\n\\n\\n\\n\\n\\n\\nUnited Kingdom - English \\n\\n\\n\\n\\n\\n\\n\\n\\n                        Latin America\\n                        \\n\\n\\n\\n\\n\\n\\n\\nBrazil - Portuguese \\n\\n\\n\\n\\n\\n\\nMexico - Spanish \\n\\n\\n\\n\\n\\n\\n\\n\\n                        Middle East\\n                        \\n\\n\\n\\n\\n\\n\\n\\nEgypt - English \\n\\n\\n\\n\\n\\n\\nIraq - English \\n\\n\\n\\n\\n\\n\\nKuwait - English \\n\\n\\n\\n\\n\\n\\nOman - English \\n\\n\\n\\n\\n\\n\\nQatar - English \\n\\n\\n\\n\\n\\n\\nSaudi Arabia - Arabic\\n\\n\\n\\n\\n\\n\\nSaudi Arabia - English'),\n",
       " Document(metadata={'source': 'https://www.honeywell.com/us/en/news/2025/01/5-retail-trends-changing-the-way-you-shop-in-2025', 'title': '5 Retail Trends Changing the Way You Shop in 2025', 'description': 'Learn about the five retail trends set to shape shopping in 2025, from AI-driven customer service to new ways retailers invest in their teams.', 'language': 'en-US'}, page_content='Egypt - English \\n\\n\\n\\n\\n\\n\\nIraq - English \\n\\n\\n\\n\\n\\n\\nKuwait - English \\n\\n\\n\\n\\n\\n\\nOman - English \\n\\n\\n\\n\\n\\n\\nQatar - English \\n\\n\\n\\n\\n\\n\\nSaudi Arabia - Arabic\\n\\n\\n\\n\\n\\n\\nSaudi Arabia - English \\n\\n\\n\\n\\n\\n\\nUnited Arab Emirates - Arabic\\n\\n\\n\\n\\n\\n\\nUnited Arab Emirates - English \\n\\n\\n\\n\\n\\n\\n\\n\\n                        North America\\n                        \\n\\n\\n\\n\\n\\n\\n\\nCanada - English \\n\\n\\n\\n\\n\\n\\nCanada - French \\n\\n\\n\\n\\n\\n\\nUnited States - English \\n\\n\\n\\n\\n\\n\\n\\n\\n\\n\\n\\n\\n\\n\\n\\n|\\n\\n\\nBUSINESSES\\n\\n\\n\\n\\n\\n                            BUSINESSES\\n                        \\n\\n\\n\\nAerospace Technologies\\n\\n\\n\\n\\n\\nIndustrial Automation\\n\\n\\n\\n\\n\\nBuilding Automation\\n\\n\\n\\n\\n\\nEnergy And Sustainability Solutions\\n\\n\\n\\n\\n\\n\\n|\\nContact\\n|\\n\\n\\n\\n\\n\\n\\n\\n\\nSearch\\n\\n\\n\\n\\n\\nYou are browsing the product catalog for \\nYou are viewing the overview and resources for\\n\\n\\n\\n\\n\\n\\n\\n\\n\\n\\n\\n\\n\\n\\n\\n\\n\\n\\n\\n\\n\\n\\n\\n\\n\\n\\n\\n\\n\\n\\n\\n/content/honeywellbt/us/en/search.html\\n\\ntitle\\nsubtitle\\n\\n\\n\\n\\n\\n\\n\\n\\n\\n\\n\\n\\n\\n\\n\\n\\n\\n News \\n\\n\\n\\n 5 Retail Trends Changing the Way You Shop in 2025'),\n",
       " Document(metadata={'source': 'https://www.honeywell.com/us/en/news/2025/01/5-retail-trends-changing-the-way-you-shop-in-2025', 'title': '5 Retail Trends Changing the Way You Shop in 2025', 'description': 'Learn about the five retail trends set to shape shopping in 2025, from AI-driven customer service to new ways retailers invest in their teams.', 'language': 'en-US'}, page_content='/content/honeywellbt/us/en/search.html\\n\\ntitle\\nsubtitle\\n\\n\\n\\n\\n\\n\\n\\n\\n\\n\\n\\n\\n\\n\\n\\n\\n\\n News \\n\\n\\n\\n 5 Retail Trends Changing the Way You Shop in 2025\\n\\n\\n\\n\\n\\n\\n\\n\\n\\n\\n\\n\\n\\n\\n\\n\\n\\n\\n\\n\\n\\n\\n\\n\\n\\n\\n\\n\\n\\n\\n\\n\\n\\n\\n\\n\\n\\n\\n\\n\\n\\n\\n\\n\\n\\n\\n\\n\\n\\n\\n\\n\\n\\n\\n\\n\\n\\n\\n5 Retail Trends Changing the Way You Shop in 2025\\nConsumers should expect more seamless checkouts and more personalized online shopping'),\n",
       " Document(metadata={'source': 'https://www.honeywell.com/us/en/news/2025/01/5-retail-trends-changing-the-way-you-shop-in-2025', 'title': '5 Retail Trends Changing the Way You Shop in 2025', 'description': 'Learn about the five retail trends set to shape shopping in 2025, from AI-driven customer service to new ways retailers invest in their teams.', 'language': 'en-US'}, page_content=\"Whether filling your virtual grocery cart from the comfort of your couch or using augmented reality to visualize a new furniture purchase in your space, shopping today is all about convenience and speed.\\nRetailers are working around the clock to keep up with consumers’ growing expectations. Expect to see AI agents, more experiential shopping experiences and seamless customer service.\\nWe're sharing new insights from our AI in Retail survey – a poll of retailers and holiday shoppers in the U.S. on their use of AI – and perspectives from one of our retail experts, Andres Avila, global marketing lead for Honeywell Productivity Services and Solutions. Keep reading to get the scoop on some of the trends impacting retailers this year and what shoppers should look forward to in the future.\\nRetailers are reinvesting in their workers\"),\n",
       " Document(metadata={'source': 'https://www.honeywell.com/us/en/news/2025/01/5-retail-trends-changing-the-way-you-shop-in-2025', 'title': '5 Retail Trends Changing the Way You Shop in 2025', 'description': 'Learn about the five retail trends set to shape shopping in 2025, from AI-driven customer service to new ways retailers invest in their teams.', 'language': 'en-US'}, page_content='Retailers are reinvesting in their workers\\nThe retail labor landscape is evolving. Even in the self-checkout era, Avila said that many retailers are reinvesting in their associates – including hiring more employees to support customer experience and help with security in stores.\\n“The difference now compared to two or three years ago is that many retailers expect workers to have more than one responsibility and be able to make decisions. They want all employees to help solve customer pain points,” Avila said.\\nTo enhance employee experience, many retailers are using AI tools to equip associates with real-time information to help them answer customers’ questions, such as about product inventory.'),\n",
       " Document(metadata={'source': 'https://www.honeywell.com/us/en/news/2025/01/5-retail-trends-changing-the-way-you-shop-in-2025', 'title': '5 Retail Trends Changing the Way You Shop in 2025', 'description': 'Learn about the five retail trends set to shape shopping in 2025, from AI-driven customer service to new ways retailers invest in their teams.', 'language': 'en-US'}, page_content='To enhance employee experience, many retailers are using AI tools to equip associates with real-time information to help them answer customers’ questions, such as about product inventory.\\xa0\\nMore than 6 in 10 retail executives surveyed in Honeywell’s AI in Retail Survey said that AI tools make the job easier for employees, and 55% said they increase job satisfaction. More than half of respondents believe AI can help employees progress more quickly in their careers, expand their soft skills and continuously provide value to their jobs.\\nConsumers expect “phygital” shopping experiences\\nThe line between online and brick-and-mortar shopping is continuing to blur. Consumers expect quick responses and the ability to compare products online while shopping in-store.\\n“Consumers want a blend of the physical and digital retail experiences where they can enjoy the best of both,” Avila said. “[Shoppers] do not want to have a completely different experience online and offline.”'),\n",
       " Document(metadata={'source': 'https://www.honeywell.com/us/en/news/2025/01/5-retail-trends-changing-the-way-you-shop-in-2025', 'title': '5 Retail Trends Changing the Way You Shop in 2025', 'description': 'Learn about the five retail trends set to shape shopping in 2025, from AI-driven customer service to new ways retailers invest in their teams.', 'language': 'en-US'}, page_content='Experiential retail is on the rise\\nSuccessful retailers are going beyond the transaction – a purchase or a return – to make a lasting impression on customers and build community. Expect to see more experiences like pop-ups, exhibits and immersive shopping experiences that focus on “phygital” retail growing in prominence.\\n“Consumers demand experiences and sometimes advice when visiting stores, making customer connections crucial,” Avila said.\\xa0\\nSupply chain resiliency and improved logistics\\nRetailers are focused on supply chain resiliency -- including automation, real-time tracking and strategies for overcoming global supply chain challenges, Avila said.\\nFor consumers, this could help with the speed of deliveries and even more accurate product inventory.\\nExpect to see AI used for more efficient day-to-day operations'),\n",
       " Document(metadata={'source': 'https://www.honeywell.com/us/en/news/2025/01/5-retail-trends-changing-the-way-you-shop-in-2025', 'title': '5 Retail Trends Changing the Way You Shop in 2025', 'description': 'Learn about the five retail trends set to shape shopping in 2025, from AI-driven customer service to new ways retailers invest in their teams.', 'language': 'en-US'}, page_content='For consumers, this could help with the speed of deliveries and even more accurate product inventory.\\nExpect to see AI used for more efficient day-to-day operations\\nRetailers are also using AI tools to streamline everyday operations, with new solutions having the potential to improve how employees assist customers. Honeywell’s AI in Retail Study found that over the next 12 months, 36% of retailers are investing in AI to improve returns management, 35% are focused on AI for automating customer service and 32% are using AI to enhance monitoring of product availability.\\nWith increasing use of AI capabilities and technologies, Avila said retailers are more focused on obtaining high-quality data about their inventory and products to ensure accurate AI applications.\\n“The conversation in the retail industry has shifted from simply the need to capture data to the importance of using it more effectively for decision-making,” Avila said.'),\n",
       " Document(metadata={'source': 'https://www.honeywell.com/us/en/news/2025/01/5-retail-trends-changing-the-way-you-shop-in-2025', 'title': '5 Retail Trends Changing the Way You Shop in 2025', 'description': 'Learn about the five retail trends set to shape shopping in 2025, from AI-driven customer service to new ways retailers invest in their teams.', 'language': 'en-US'}, page_content='“The conversation in the retail industry has shifted from simply the need to capture data to the importance of using it more effectively for decision-making,” Avila said.\\n\\xa0\\nRead the full press release for more insights from the AI Retail Study and discover how these technologies are shaping the future of retail.'),\n",
       " Document(metadata={'source': 'https://www.honeywell.com/us/en/news/2025/01/5-retail-trends-changing-the-way-you-shop-in-2025', 'title': '5 Retail Trends Changing the Way You Shop in 2025', 'description': 'Learn about the five retail trends set to shape shopping in 2025, from AI-driven customer service to new ways retailers invest in their teams.', 'language': 'en-US'}, page_content='Contact Us\\n\\n\\n\\n\\n\\n\\n\\n\\n\\n\\n\\nRetail\\n\\n\\nAutomation\\n\\n\\n\\n\\n\\n\\n\\n\\n\\n \\n\\n\\n\\n\\n\\n\\n\\n\\n\\n\\n\\n\\n\\n\\n\\n\\n\\n\\n\\n\\n\\n\\n\\n\\nRelated Content\\n\\n\\n\\n\\n\\n\\n\\n\\n\\n\\n\\n\\nFrom Automation to Autonomy: What’s Next\\n\\n\\n\\n\\n\\n\\n\\n\\n\\n\\n\\n\\nTop Innovations of 2024\\n\\n\\n\\n\\n\\n\\n\\n\\n\\n\\n\\n\\nMeet a #Futureshaper: Abdulla Alsaadi\\n\\n\\n\\n\\n\\n\\n\\n\\n\\n\\n\\n\\n\\n\\n\\n\\n\\n\\n\\n\\n\\n\\n\\n\\n\\n\\n\\n\\n\\n\\n\\n\\n\\n\\n\\n\\n\\n\\n\\n\\n\\n\\n\\n\\nBusinesses\\n\\n\\ntoggle view\\n\\n\\nAerospace Technologies\\nIndustrial Automation\\nBuilding Automation\\nEnergy and Sustainability Solutions\\n\\n\\n\\n\\nSolutions\\n\\n\\ntoggle view\\n\\n\\nAutomation\\nEnergy Transition\\nFuture of Aviation\\nHoneywell Forge\\nOT Cybersecurity\\nOur Products\\n\\n\\n\\n\\n\\n\\nINDUSTRIES\\n\\n\\ntoggle view\\n\\n\\nAerospace\\nCommercial Buildings\\nEnergy\\nHealthcare\\nData Centers\\nLife Sciences\\nWarehouse & Logistics\\nManufacturing\\nRetail\\nUtilities\\n\\n\\n\\n\\nCustomer\\n\\n\\ntoggle view\\n\\n\\nCustomer Stories\\n\\n\\n\\n\\n\\n\\nCompany\\n\\n\\ntoggle view\\n\\n\\nAbout Us\\nHistory\\nInvestors\\nLeadership\\nInclusion & Diversity\\nStrategic Partners\\nAccessibility\\n\\n\\n\\n\\nNews & Media\\n\\n\\ntoggle view\\n\\n\\nPress Releases & Media\\nOur Stories\\nPodcast\\n\\n\\n\\n\\n\\n\\nCareers\\n\\n\\ntoggle view\\n\\n\\nCareers\\nJob Search'),\n",
       " Document(metadata={'source': 'https://www.honeywell.com/us/en/news/2025/01/5-retail-trends-changing-the-way-you-shop-in-2025', 'title': '5 Retail Trends Changing the Way You Shop in 2025', 'description': 'Learn about the five retail trends set to shape shopping in 2025, from AI-driven customer service to new ways retailers invest in their teams.', 'language': 'en-US'}, page_content='News & Media\\n\\n\\ntoggle view\\n\\n\\nPress Releases & Media\\nOur Stories\\nPodcast\\n\\n\\n\\n\\n\\n\\nCareers\\n\\n\\ntoggle view\\n\\n\\nCareers\\nJob Search\\n\\n\\n\\n\\nContact Us\\n\\n\\ntoggle view\\n\\n\\nSupport\\nBusiness Inquiries\\nEmployee Access\\n\\n\\n\\n\\n            FOLLOW US\\n\\n\\n\\n\\nLinkedIn\\n\\n\\n\\n\\n\\n\\n\\n\\n\\nFacebook\\n\\n\\n\\n\\n\\n\\n\\n\\nTwitter\\n\\n\\n\\n\\n\\n\\n\\n\\n\\n\\n\\nYouTube\\n\\n\\n\\n\\n\\n\\n\\n\\n\\nInstagram\\n\\n\\n\\n\\n\\n\\n\\n\\n\\n\\n\\n\\n\\n\\n\\n\\n\\n\\n\\n\\n\\n\\n\\nScroll to top\\n\\n\\n\\n\\nCopyright © 2025 Honeywell International Inc.\\n\\n\\n\\n\\nTerms & Conditions\\n\\n\\n\\nPrivacy Statement\\n\\n\\n\\nYour Privacy Choices\\n\\n\\n\\nCookie Notice\\n\\n\\n\\nGlobal Unsubscribe')]"
      ]
     },
     "execution_count": 46,
     "metadata": {},
     "output_type": "execute_result"
    }
   ],
   "source": [
    "text_splitter = RecursiveCharacterTextSplitter(chunk_size=1000, chunk_overlap=200)\n",
    "documents = text_splitter.split_documents(document)\n",
    "documents"
   ]
  },
  {
   "cell_type": "code",
   "execution_count": 47,
   "metadata": {},
   "outputs": [
    {
     "data": {
      "text/plain": [
       "<langchain_community.vectorstores.faiss.FAISS at 0x7f4429e62b70>"
      ]
     },
     "execution_count": 47,
     "metadata": {},
     "output_type": "execute_result"
    }
   ],
   "source": [
    "embedding = AzureOpenAIEmbeddings(model=\"text-embedding-3-large\")\n",
    "vectorstore = FAISS.from_documents(documents, embedding)\n",
    "vectorstore"
   ]
  },
  {
   "cell_type": "code",
   "execution_count": 48,
   "metadata": {},
   "outputs": [
    {
     "data": {
      "text/plain": [
       "'Retailers are reinvesting in their workers\\nThe retail labor landscape is evolving. Even in the self-checkout era, Avila said that many retailers are reinvesting in their associates – including hiring more employees to support customer experience and help with security in stores.\\n“The difference now compared to two or three years ago is that many retailers expect workers to have more than one responsibility and be able to make decisions. They want all employees to help solve customer pain points,” Avila said.\\nTo enhance employee experience, many retailers are using AI tools to equip associates with real-time information to help them answer customers’ questions, such as about product inventory.'"
      ]
     },
     "execution_count": 48,
     "metadata": {},
     "output_type": "execute_result"
    }
   ],
   "source": [
    "query = \"The retail labor landscape is evolving\"\n",
    "result = vectorstore.similarity_search(query)\n",
    "result[0].page_content"
   ]
  },
  {
   "cell_type": "code",
   "execution_count": 49,
   "metadata": {},
   "outputs": [
    {
     "data": {
      "text/plain": [
       "RunnableBinding(bound=RunnableAssign(mapper={\n",
       "  context: RunnableBinding(bound=RunnableLambda(lambda x: x['input'])\n",
       "           | VectorStoreRetriever(tags=['FAISS', 'AzureOpenAIEmbeddings'], vectorstore=<langchain_community.vectorstores.faiss.FAISS object at 0x7f4429e62b70>, search_kwargs={}), kwargs={}, config={'run_name': 'retrieve_documents'}, config_factories=[])\n",
       "})\n",
       "| RunnableAssign(mapper={\n",
       "    answer: RunnableBinding(bound=RunnableBinding(bound=RunnableAssign(mapper={\n",
       "              context: RunnableLambda(format_docs)\n",
       "            }), kwargs={}, config={'run_name': 'format_inputs'}, config_factories=[])\n",
       "            | ChatPromptTemplate(input_variables=['context'], input_types={}, partial_variables={}, messages=[HumanMessagePromptTemplate(prompt=PromptTemplate(input_variables=['context'], input_types={}, partial_variables={}, template='\\nAnswer the following question based only on the provided context:\\n<context>\\n{context}\\n</context>\\n'), additional_kwargs={})])\n",
       "            | AzureChatOpenAI(client=<openai.resources.chat.completions.Completions object at 0x7f4429e5fc50>, async_client=<openai.resources.chat.completions.AsyncCompletions object at 0x7f4429e5f1d0>, root_client=<openai.lib.azure.AzureOpenAI object at 0x7f4429e62630>, root_async_client=<openai.lib.azure.AsyncAzureOpenAI object at 0x7f4429e5fc80>, model_kwargs={}, openai_api_key=SecretStr('**********'), disabled_params={'parallel_tool_calls': None}, azure_endpoint='https://open-aj.openai.azure.com/', deployment_name='gpt-4', openai_api_version='2024-08-01-preview', openai_api_type='azure')\n",
       "            | StrOutputParser(), kwargs={}, config={'run_name': 'stuff_documents_chain'}, config_factories=[])\n",
       "  }), kwargs={}, config={'run_name': 'retrieval_chain'}, config_factories=[])"
      ]
     },
     "execution_count": 49,
     "metadata": {},
     "output_type": "execute_result"
    }
   ],
   "source": [
    "from langchain.chains import create_retrieval_chain\n",
    "\n",
    "retriever = vectorstore.as_retriever()\n",
    "retrieval_chain = create_retrieval_chain(retriever, document_chain)\n",
    "retrieval_chain"
   ]
  },
  {
   "cell_type": "code",
   "execution_count": 52,
   "metadata": {},
   "outputs": [
    {
     "data": {
      "text/plain": [
       "{'input': 'The retail labor landscape is evolving',\n",
       " 'context': [Document(id='8ff44572-869b-47b0-ab75-0198135001ee', metadata={'source': 'https://www.honeywell.com/us/en/news/2025/01/5-retail-trends-changing-the-way-you-shop-in-2025', 'title': '5 Retail Trends Changing the Way You Shop in 2025', 'description': 'Learn about the five retail trends set to shape shopping in 2025, from AI-driven customer service to new ways retailers invest in their teams.', 'language': 'en-US'}, page_content='Retailers are reinvesting in their workers\\nThe retail labor landscape is evolving. Even in the self-checkout era, Avila said that many retailers are reinvesting in their associates – including hiring more employees to support customer experience and help with security in stores.\\n“The difference now compared to two or three years ago is that many retailers expect workers to have more than one responsibility and be able to make decisions. They want all employees to help solve customer pain points,” Avila said.\\nTo enhance employee experience, many retailers are using AI tools to equip associates with real-time information to help them answer customers’ questions, such as about product inventory.'),\n",
       "  Document(id='16217bd1-c8de-45ce-b73f-4feafb6ea7f1', metadata={'source': 'https://www.honeywell.com/us/en/news/2025/01/5-retail-trends-changing-the-way-you-shop-in-2025', 'title': '5 Retail Trends Changing the Way You Shop in 2025', 'description': 'Learn about the five retail trends set to shape shopping in 2025, from AI-driven customer service to new ways retailers invest in their teams.', 'language': 'en-US'}, page_content='Experiential retail is on the rise\\nSuccessful retailers are going beyond the transaction – a purchase or a return – to make a lasting impression on customers and build community. Expect to see more experiences like pop-ups, exhibits and immersive shopping experiences that focus on “phygital” retail growing in prominence.\\n“Consumers demand experiences and sometimes advice when visiting stores, making customer connections crucial,” Avila said.\\xa0\\nSupply chain resiliency and improved logistics\\nRetailers are focused on supply chain resiliency -- including automation, real-time tracking and strategies for overcoming global supply chain challenges, Avila said.\\nFor consumers, this could help with the speed of deliveries and even more accurate product inventory.\\nExpect to see AI used for more efficient day-to-day operations'),\n",
       "  Document(id='735dac99-bbec-42d5-b0b5-66742eb0f37b', metadata={'source': 'https://www.honeywell.com/us/en/news/2025/01/5-retail-trends-changing-the-way-you-shop-in-2025', 'title': '5 Retail Trends Changing the Way You Shop in 2025', 'description': 'Learn about the five retail trends set to shape shopping in 2025, from AI-driven customer service to new ways retailers invest in their teams.', 'language': 'en-US'}, page_content=\"Whether filling your virtual grocery cart from the comfort of your couch or using augmented reality to visualize a new furniture purchase in your space, shopping today is all about convenience and speed.\\nRetailers are working around the clock to keep up with consumers’ growing expectations. Expect to see AI agents, more experiential shopping experiences and seamless customer service.\\nWe're sharing new insights from our AI in Retail survey – a poll of retailers and holiday shoppers in the U.S. on their use of AI – and perspectives from one of our retail experts, Andres Avila, global marketing lead for Honeywell Productivity Services and Solutions. Keep reading to get the scoop on some of the trends impacting retailers this year and what shoppers should look forward to in the future.\\nRetailers are reinvesting in their workers\"),\n",
       "  Document(id='308f1a3d-2513-4202-8e81-2f6a92d40b23', metadata={'source': 'https://www.honeywell.com/us/en/news/2025/01/5-retail-trends-changing-the-way-you-shop-in-2025', 'title': '5 Retail Trends Changing the Way You Shop in 2025', 'description': 'Learn about the five retail trends set to shape shopping in 2025, from AI-driven customer service to new ways retailers invest in their teams.', 'language': 'en-US'}, page_content='To enhance employee experience, many retailers are using AI tools to equip associates with real-time information to help them answer customers’ questions, such as about product inventory.\\xa0\\nMore than 6 in 10 retail executives surveyed in Honeywell’s AI in Retail Survey said that AI tools make the job easier for employees, and 55% said they increase job satisfaction. More than half of respondents believe AI can help employees progress more quickly in their careers, expand their soft skills and continuously provide value to their jobs.\\nConsumers expect “phygital” shopping experiences\\nThe line between online and brick-and-mortar shopping is continuing to blur. Consumers expect quick responses and the ability to compare products online while shopping in-store.\\n“Consumers want a blend of the physical and digital retail experiences where they can enjoy the best of both,” Avila said. “[Shoppers] do not want to have a completely different experience online and offline.”')],\n",
       " 'answer': 'What strategies are retailers using to improve the employee experience and customer service in their stores?'}"
      ]
     },
     "execution_count": 52,
     "metadata": {},
     "output_type": "execute_result"
    }
   ],
   "source": [
    "result = retrieval_chain.invoke({\"input\": \"The retail labor landscape is evolving\"})\n",
    "result\n",
    "# result[\"answer\"]"
   ]
  }
 ],
 "metadata": {
  "kernelspec": {
   "display_name": "venv",
   "language": "python",
   "name": "python3"
  },
  "language_info": {
   "codemirror_mode": {
    "name": "ipython",
    "version": 3
   },
   "file_extension": ".py",
   "mimetype": "text/x-python",
   "name": "python",
   "nbconvert_exporter": "python",
   "pygments_lexer": "ipython3",
   "version": "3.12.0"
  }
 },
 "nbformat": 4,
 "nbformat_minor": 2
}
